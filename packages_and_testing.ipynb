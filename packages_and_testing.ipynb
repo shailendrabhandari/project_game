{
 "cells": [
  {
   "attachments": {
    "77ded75e-9c8e-495f-a095-2028b49f7452.png": {
     "image/png": "[encoded data removed]"
    }
   },
   "cell_type": "markdown",
   "id": "65ada78b",
   "metadata": {},
   "source": [
    "# Structuring Python code: Modules and Packages\n",
    "![image.png](attachment:77ded75e-9c8e-495f-a095-2028b49f7452.png)!\n"
   ]
  },
  {
   "cell_type": "markdown",
   "id": "85205a4b",
   "metadata": {},
   "source": [
    "## What is a Python module and what is it good for?\n",
    "\n",
    "A module is a file consisting of Python code. A module can define functions, classes and variables. A module can also include runnable code.\n",
    "\n",
    "Use modules to organize your program logically\n",
    "\n",
    "- Split the code into several files for easier maintenance.\n",
    "- Group related code into a module.\n",
    "- Share common code between scripts.\n",
    "- Publish modules on the web for other people to use (even better: create a **package**, see below).\n"
   ]
  },
  {
   "cell_type": "markdown",
   "id": "cf60eeb1",
   "metadata": {},
   "source": [
    "### Using modules\n",
    "\n",
    "We have already seen some example of usage in the previous lecture part\n",
    "\n",
    "```python\n",
    "import itertools\n",
    "# Access function from the module\n",
    "itertools.product\n",
    "\n",
    "# Alias\n",
    "import itertools as itools\n",
    "itool.product\n",
    "\n",
    "# The following is considered a bad practice\n",
    "from itertools import *\n",
    "# Easy to shadow existing variables (also hard for IDEs)\n",
    "```\n"
   ]
  },
  {
   "cell_type": "markdown",
   "id": "a43bfb86",
   "metadata": {},
   "source": [
    "## What makes `itertools` into a module and not a package?\n",
    "\n",
    "It is a single file!\n",
    "Python has a lot of built-in modules\n",
    "\n",
    "```python\n",
    "import sys\n",
    "print(sys.builtin_module_names)\n",
    "```\n"
   ]
  },
  {
   "cell_type": "markdown",
   "id": "7b9d7c41",
   "metadata": {},
   "source": [
    "## Creating and using Python modules\n",
    "\n",
    "Creating own modules in Python is **very simple**:\n",
    "\n",
    "1. Put any code (variables, functions, classes) that should be part of the module in a Python file.\n",
    "\n",
    "Let us consider a simple user-defined function, put in the file `user_factorial.py`\n"
   ]
  },
  {
   "cell_type": "code",
   "execution_count": 8,
   "id": "6e015233-ac46-4724-80f5-990c069663c0",
   "metadata": {},
   "outputs": [
    {
     "name": "stdout",
     "output_type": "stream",
     "text": [
      "Writing code_factorial.py\n"
     ]
    }
   ],
   "source": [
    "%%writefile code_factorial.py\n",
    "\n",
    "def factorial(n):\n",
    "    if n == 0 or n == 1:\n",
    "        return 1\n",
    "    else:\n",
    "        return n * factorial(n - 1)\n"
   ]
  },
  {
   "cell_type": "code",
   "execution_count": 9,
   "id": "ff72d629",
   "metadata": {},
   "outputs": [
    {
     "name": "stdout",
     "output_type": "stream",
     "text": [
      "\n",
      "def factorial(n):\n",
      "    if n == 0 or n == 1:\n",
      "        return 1\n",
      "    else:\n",
      "        return n * factorial(n - 1)\n"
     ]
    }
   ],
   "source": [
    "!head -n 20 code_factorial.py"
   ]
  },
  {
   "cell_type": "markdown",
   "id": "f758817d",
   "metadata": {},
   "source": [
    "We can now import this function to our code by calling\n"
   ]
  },
  {
   "cell_type": "code",
   "execution_count": 11,
   "id": "6b14e491",
   "metadata": {},
   "outputs": [
    {
     "data": {
      "text/plain": [
       "120"
      ]
     },
     "execution_count": 11,
     "metadata": {},
     "output_type": "execute_result"
    }
   ],
   "source": [
    "from code_factorial import factorial\n",
    "factorial(5)"
   ]
  },
  {
   "cell_type": "markdown",
   "id": "4ef233a4",
   "metadata": {},
   "source": [
    "How does Python find your modules? When importing a module (or package module), Python tries to find it in multiples places (in this order):\n",
    "\n",
    "    - The built-in modules shown above\n",
    "    - Your current working directory.\n",
    "    - Paths defined by the environment variable $PYTHONPATH.\n",
    "    - Some global paths, e.g. /usr/lib/python3.7/site-packages. This depends on your OS and Python installation.\n",
    "\n",
    "This can be verified as follows via another useful module `sys`\n"
   ]
  },
  {
   "cell_type": "code",
   "execution_count": 12,
   "id": "df01bd49",
   "metadata": {},
   "outputs": [
    {
     "data": {
      "text/plain": [
       "['/home/shailendra/Documents/lectures/Problem_solving/project&Assignment/Lecture7',\n",
       " '/home/shailendra/anaconda3/envs/myenv/lib/python311.zip',\n",
       " '/home/shailendra/anaconda3/envs/myenv/lib/python3.11',\n",
       " '/home/shailendra/anaconda3/envs/myenv/lib/python3.11/lib-dynload',\n",
       " '',\n",
       " '/home/shailendra/anaconda3/envs/myenv/lib/python3.11/site-packages']"
      ]
     },
     "execution_count": 12,
     "metadata": {},
     "output_type": "execute_result"
    }
   ],
   "source": [
    "import sys\n",
    "# Notice the order\n",
    "sys.path"
   ]
  },
  {
   "cell_type": "markdown",
   "id": "93d3a620",
   "metadata": {},
   "source": [
    "## Test block in a module\n",
    "\n",
    "Module files can have a test/demo section at the end:\n",
    "\n",
    "- The block is executed _only if_ the module file is run as a program (not if imported by another script)\n",
    "- The tests at the end of a module often serve as good examples on the usage of the module\n",
    "\n",
    "For the problem above, we add a simple hard-coded test of the factorial function\n"
   ]
  },
  {
   "cell_type": "code",
   "execution_count": 13,
   "id": "39323d65",
   "metadata": {},
   "outputs": [
    {
     "name": "stdout",
     "output_type": "stream",
     "text": [
      "\n",
      "def factorial(n):\n",
      "    if n == 0 or n == 1:\n",
      "        return 1\n",
      "    else:\n",
      "        return n * factorial(n - 1)\n"
     ]
    }
   ],
   "source": [
    "!tail -n 11 code_factorial.py"
   ]
  },
  {
   "cell_type": "code",
   "execution_count": 14,
   "id": "ca6ba9df",
   "metadata": {},
   "outputs": [],
   "source": [
    "!python3 code_factorial.py 6"
   ]
  },
  {
   "cell_type": "markdown",
   "id": "547317df",
   "metadata": {},
   "source": [
    "## What is a package?\n",
    "\n",
    "A package is a hierarchical file directory structure that consists of modules and subpackages and sub-subpackages, and so on.\n",
    "\n",
    "**Example:**\n",
    "\n",
    "```python\n",
    "from scipy.optimize import minimize\n",
    "#      ^      ^               ^\n",
    "#      |      |               |\n",
    "#   Package   |               |\n",
    "#           Module            |\n",
    "#                          Function\n",
    "```\n",
    "\n",
    "Packages allow to organize modules and scripts into single environment. These can then easily be distributed and imported by name.\n"
   ]
  },
  {
   "cell_type": "markdown",
   "id": "97ceae98",
   "metadata": {},
   "source": [
    "Python comes with a set of powerful packages, e.g.\n",
    "\n",
    "- **scipy** Scientific Python\n",
    "- **numpy** Numerical Python\n",
    "- **ipython** Interactive Python\n",
    "- **matplotlib** Plotting\n",
    "- **pandas** Data analysis\n",
    "- **scikit learn** Machine learning\n",
    "\n",
    "_Several useful packages are included in Python distributions like Anaconda_\n"
   ]
  },
  {
   "cell_type": "markdown",
   "id": "660fe0ed",
   "metadata": {},
   "source": [
    "## Creating a package\n",
    "\n",
    "- A set of modules can be collected in a _package_\n",
    "- A package is organized as module files in a directory tree\n",
    "- Each subdirectory must have a `__init__.py` file (can be empty)\n",
    "- More infos: [Section 6 in the Python Tutorial](https://docs.python.org/3/tutorial/modules.html)\n",
    "\n"
   ]
  },
  {
   "cell_type": "markdown",
   "id": "02aeecd6",
   "metadata": {},
   "source": [
    "## Installing a Python package\n",
    "\n",
    "One could in theory append the path to a package to the environment variable `PYTHONPATH`.\n",
    "However, this is not recommened, as it does not check dependencies and is not portable across systems.\n"
   ]
  },
  {
   "cell_type": "markdown",
   "id": "3d8d0efe",
   "metadata": {},
   "source": [
    "A better option is to reate a `pyproject.toml` file in your package root directory.\n",
    "We start by expecting this file\n"
   ]
  },
  {
   "cell_type": "code",
   "execution_count": 63,
   "id": "f3d1a708",
   "metadata": {},
   "outputs": [
    {
     "name": "stdout",
     "output_type": "stream",
     "text": [
      "[build-system]\n",
      "requires = [\"setuptools>=64.4.0\", \"wheel\", \"pip>=22.3\"]\n",
      "\n",
      "\n",
      "[project]\n",
      "name=\"pkg\"\n",
      "authors=[{\"name\"=\"Jørgen S. Dokken\", \"email\"=\"dokken@simula.no\"},\n",
      "         {\"name\"=\"Miroslav Kuchta\", \"email\"=\"miroslav.kuchta@gmail.com\"}\n",
      "]\n",
      "readme=\"README.md\"\n",
      "license={\"file\"=\"LICENSE\"}\n",
      "version=\"0.1.0\"\n",
      "requires-python=\">=3.8\"\n",
      "dependencies=[\"numpy>=1.20.0\"]\n",
      "\n",
      "[project.optional-dependencies]\n",
      "test = [\n",
      "    \"pytest\",\n",
      "]\n",
      "dev = [\n",
      "    \"pdbpp\", \"ipython\"\n",
      "]\n"
     ]
    }
   ],
   "source": [
    "!head -n 25 examples/my-package/pyproject.toml"
   ]
  },
  {
   "cell_type": "markdown",
   "id": "814cbc37",
   "metadata": {},
   "source": [
    "We now consider each of the sections in this file in turn.\n",
    "First we consider the `[...]`-notation. This defines a heading in a table, and we can create sub-tables, such as `[a]` and `[a.b]`.\n",
    "Many Python packages support their own headings for configuring the repository, such as formatting, import sorting, type-checking etc.\n",
    "\n",
    "### build-system\n",
    "\n",
    "Installing a package in Python means taking a set of files, and do some or all of the following options\n",
    "\n",
    "- Compile files from foreign languages (such as C/C++)\n",
    "- Move files from the current root directory to an appropriate path for the current installation of Python\n",
    "  We will use [setuptools](https://setuptools.pypa.io/) for this, a common Python packager.\n",
    "\n",
    "With the file above, we can now call the following.\n",
    "Pip will always install in the _current Python environment_,\n",
    "which may be system-wide (usually requires root permissions), per-user, or in a virtual environment.\n"
   ]
  },
  {
   "cell_type": "code",
   "execution_count": 64,
   "id": "3c31b9e7",
   "metadata": {},
   "outputs": [
    {
     "name": "stdout",
     "output_type": "stream",
     "text": [
      "Processing ./examples/my-package\n",
      "  Installing build dependencies ... \u001b[?25ldone\n",
      "\u001b[?25h  Getting requirements to build wheel ... \u001b[?25ldone\n",
      "\u001b[?25h  Preparing metadata (pyproject.toml) ... \u001b[?25ldone\n",
      "\u001b[?25hRequirement already satisfied: numpy>=1.20.0 in /home/dokken/.local/lib/python3.10/site-packages (from pkg==0.1.0) (1.26.1)\n",
      "Building wheels for collected packages: pkg\n",
      "  Building wheel for pkg (pyproject.toml) ... \u001b[?25ldone\n",
      "\u001b[?25h  Created wheel for pkg: filename=pkg-0.1.0-py3-none-any.whl size=3881 sha256=4a38e99084fdf3ea23d9d46ff357efe2aca6ec3d08a63c29f3ce6131fdaa89da\n",
      "  Stored in directory: /home/dokken/.cache/pip/wheels/e7/be/ae/c7a1fe811e9515c9b17aa8a901178b4faa716117ff2d3aab87\n",
      "Successfully built pkg\n",
      "Installing collected packages: pkg\n",
      "Successfully installed pkg-0.1.0\n",
      "\n",
      "\u001b[1m[\u001b[0m\u001b[34;49mnotice\u001b[0m\u001b[1;39;49m]\u001b[0m\u001b[39;49m A new release of pip is available: \u001b[0m\u001b[31;49m23.1.2\u001b[0m\u001b[39;49m -> \u001b[0m\u001b[32;49m23.3.1\u001b[0m\n",
      "\u001b[1m[\u001b[0m\u001b[34;49mnotice\u001b[0m\u001b[1;39;49m]\u001b[0m\u001b[39;49m To update, run: \u001b[0m\u001b[32;49mpip install --upgrade pip\u001b[0m\n"
     ]
    }
   ],
   "source": [
    "!python3 -m pip install ./examples/my-package"
   ]
  },
  {
   "cell_type": "markdown",
   "id": "34c1dcf4",
   "metadata": {},
   "source": [
    "We can check where the package now is located by calling\n"
   ]
  },
  {
   "cell_type": "code",
   "execution_count": 65,
   "id": "b43920e8",
   "metadata": {},
   "outputs": [
    {
     "name": "stdout",
     "output_type": "stream",
     "text": [
      "['/home/dokken/src/mambaforge/envs/UIO-IN3110/lib/python3.10/site-packages/pkg']\n"
     ]
    }
   ],
   "source": [
    "!python3 -c \"import pkg; print(pkg.__path__)\""
   ]
  },
  {
   "cell_type": "markdown",
   "id": "b35ac273",
   "metadata": {},
   "source": [
    "## Editable installation\n",
    "\n",
    "As we have seen in the scripts above, the files are copied from the current location to the another place on disk specific to the Python installation. With rapid development, this would be a time-consuming and annoying task. Therefore, one can use [editable installations](https://setuptools.pypa.io/en/latest/userguide/development_mode.html) that creates special `.pth` file in the Python-installations site package, that extends the Python-path to the package directory. This means that one do not have to re-install the package to reflect changes\n"
   ]
  },
  {
   "cell_type": "code",
   "execution_count": 66,
   "id": "aa29027d",
   "metadata": {},
   "outputs": [
    {
     "name": "stdout",
     "output_type": "stream",
     "text": [
      "Found existing installation: pkg 0.1.0\n",
      "Uninstalling pkg-0.1.0:\n",
      "  Successfully uninstalled pkg-0.1.0\n",
      "Using pip 23.1.2 from /home/dokken/.local/lib/python3.10/site-packages/pip (python 3.10)\n",
      "Obtaining file:///home/dokken/Documents/src/UiO/UiO-IN3110.github.io/lectures/python/examples/my-package\n",
      "  Installing build dependencies ... \u001b[?25l  Running command pip subprocess to install build dependencies\n",
      "  Collecting setuptools>=64.4.0\n",
      "    Using cached setuptools-68.2.2-py3-none-any.whl (807 kB)\n",
      "  Collecting wheel\n",
      "    Using cached wheel-0.41.3-py3-none-any.whl (65 kB)\n",
      "  Collecting pip>=22.3\n",
      "    Using cached pip-23.3.1-py3-none-any.whl (2.1 MB)\n",
      "  Installing collected packages: wheel, setuptools, pip\n",
      "  ERROR: pip's dependency resolver does not currently take into account all the packages that are installed. This behaviour is the source of the following dependency conflicts.\n",
      "  tensorboard 2.11.1 requires markdown>=2.6.8, which is not installed.\n",
      "  tensorboard 2.11.1 requires protobuf<4,>=3.9.2, which is not installed.\n",
      "  tensorflow 2.11.0 requires protobuf<3.20,>=3.9.2, which is not installed.\n",
      "  numba 0.56.4 requires numpy<1.24,>=1.18, but you have numpy 1.26.1 which is incompatible.\n",
      "  Successfully installed pip-23.3.1 setuptools-68.2.2 wheel-0.41.3\n",
      "\n",
      "  [notice] A new release of pip is available: 23.1.2 -> 23.3.1\n",
      "  [notice] To update, run: pip install --upgrade pip\n",
      "\u001b[?25hdone\n",
      "  Checking if build backend supports build_editable ... \u001b[?25l  Running command Checking if build backend supports build_editable\n",
      "\u001b[?25hdone\n",
      "  Getting requirements to build editable ... \u001b[?25l  Running command Getting requirements to build editable\n",
      "  running egg_info\n",
      "  writing src/pkg.egg-info/PKG-INFO\n",
      "  writing dependency_links to src/pkg.egg-info/dependency_links.txt\n",
      "  writing requirements to src/pkg.egg-info/requires.txt\n",
      "  writing top-level names to src/pkg.egg-info/top_level.txt\n",
      "  reading manifest file 'src/pkg.egg-info/SOURCES.txt'\n",
      "  adding license file 'LICENSE'\n",
      "  writing manifest file 'src/pkg.egg-info/SOURCES.txt'\n",
      "\u001b[?25hdone\n",
      "  Preparing editable metadata (pyproject.toml) ... \u001b[?25l  Running command Preparing editable metadata (pyproject.toml)\n",
      "  running dist_info\n",
      "  creating /tmp/pip-modern-metadata-ckzb6ip2/pkg.egg-info\n",
      "  writing /tmp/pip-modern-metadata-ckzb6ip2/pkg.egg-info/PKG-INFO\n",
      "  writing dependency_links to /tmp/pip-modern-metadata-ckzb6ip2/pkg.egg-info/dependency_links.txt\n",
      "  writing requirements to /tmp/pip-modern-metadata-ckzb6ip2/pkg.egg-info/requires.txt\n",
      "  writing top-level names to /tmp/pip-modern-metadata-ckzb6ip2/pkg.egg-info/top_level.txt\n",
      "  writing manifest file '/tmp/pip-modern-metadata-ckzb6ip2/pkg.egg-info/SOURCES.txt'\n",
      "  reading manifest file '/tmp/pip-modern-metadata-ckzb6ip2/pkg.egg-info/SOURCES.txt'\n",
      "  adding license file 'LICENSE'\n",
      "  writing manifest file '/tmp/pip-modern-metadata-ckzb6ip2/pkg.egg-info/SOURCES.txt'\n",
      "  creating '/tmp/pip-modern-metadata-ckzb6ip2/pkg-0.1.0.dist-info'\n",
      "\u001b[?25hdone\n",
      "Requirement already satisfied: numpy>=1.20.0 in /home/dokken/.local/lib/python3.10/site-packages (from pkg==0.1.0) (1.26.1)\n",
      "Building wheels for collected packages: pkg\n",
      "  Building editable for pkg (pyproject.toml) ... \u001b[?25l  Running command Building editable for pkg (pyproject.toml)\n",
      "  running editable_wheel\n",
      "  creating /tmp/pip-wheel-d2tjy3ki/.tmp-9syep96b/pkg.egg-info\n",
      "  writing /tmp/pip-wheel-d2tjy3ki/.tmp-9syep96b/pkg.egg-info/PKG-INFO\n",
      "  writing dependency_links to /tmp/pip-wheel-d2tjy3ki/.tmp-9syep96b/pkg.egg-info/dependency_links.txt\n",
      "  writing requirements to /tmp/pip-wheel-d2tjy3ki/.tmp-9syep96b/pkg.egg-info/requires.txt\n",
      "  writing top-level names to /tmp/pip-wheel-d2tjy3ki/.tmp-9syep96b/pkg.egg-info/top_level.txt\n",
      "  writing manifest file '/tmp/pip-wheel-d2tjy3ki/.tmp-9syep96b/pkg.egg-info/SOURCES.txt'\n",
      "  reading manifest file '/tmp/pip-wheel-d2tjy3ki/.tmp-9syep96b/pkg.egg-info/SOURCES.txt'\n",
      "  adding license file 'LICENSE'\n",
      "  writing manifest file '/tmp/pip-wheel-d2tjy3ki/.tmp-9syep96b/pkg.egg-info/SOURCES.txt'\n",
      "  creating '/tmp/pip-wheel-d2tjy3ki/.tmp-9syep96b/pkg-0.1.0.dist-info'\n",
      "  creating /tmp/pip-wheel-d2tjy3ki/.tmp-9syep96b/pkg-0.1.0.dist-info/WHEEL\n",
      "  running build_py\n",
      "  running egg_info\n",
      "  creating /tmp/tmpxgpioiwc.build-temp/pkg.egg-info\n",
      "  writing /tmp/tmpxgpioiwc.build-temp/pkg.egg-info/PKG-INFO\n",
      "  writing dependency_links to /tmp/tmpxgpioiwc.build-temp/pkg.egg-info/dependency_links.txt\n",
      "  writing requirements to /tmp/tmpxgpioiwc.build-temp/pkg.egg-info/requires.txt\n",
      "  writing top-level names to /tmp/tmpxgpioiwc.build-temp/pkg.egg-info/top_level.txt\n",
      "  writing manifest file '/tmp/tmpxgpioiwc.build-temp/pkg.egg-info/SOURCES.txt'\n",
      "  reading manifest file '/tmp/tmpxgpioiwc.build-temp/pkg.egg-info/SOURCES.txt'\n",
      "  adding license file 'LICENSE'\n",
      "  writing manifest file '/tmp/tmpxgpioiwc.build-temp/pkg.egg-info/SOURCES.txt'\n",
      "\n",
      "          Editable install will be performed using .pth file to extend `sys.path` with:\n",
      "          ['src']\n",
      "\n",
      "  Options like `package-data`, `include/exclude-package-data` or\n",
      "  `packages.find.exclude/include` may have no effect.\n",
      "\n",
      "  adding '__editable__.pkg-0.1.0.pth'\n",
      "  creating '/tmp/pip-wheel-d2tjy3ki/.tmp-9syep96b/pkg-0.1.0-0.editable-py3-none-any.whl' and adding '/tmp/tmpl7nuej9ppkg-0.1.0-0.editable-py3-none-any.whl' to it\n",
      "  adding 'pkg-0.1.0.dist-info/LICENSE'\n",
      "  adding 'pkg-0.1.0.dist-info/METADATA'\n",
      "  adding 'pkg-0.1.0.dist-info/WHEEL'\n",
      "  adding 'pkg-0.1.0.dist-info/top_level.txt'\n",
      "  adding 'pkg-0.1.0.dist-info/RECORD'\n",
      "\u001b[?25hdone\n",
      "  Created wheel for pkg: filename=pkg-0.1.0-0.editable-py3-none-any.whl size=2854 sha256=369cc98d72e82f2aa28a6bed58a6836e4f47328788679836e8c916cfd51ea238\n",
      "  Stored in directory: /tmp/pip-ephem-wheel-cache-2456l8n7/wheels/e7/be/ae/c7a1fe811e9515c9b17aa8a901178b4faa716117ff2d3aab87\n",
      "Successfully built pkg\n",
      "Installing collected packages: pkg\n",
      "Successfully installed pkg-0.1.0\n",
      "\n",
      "\u001b[1m[\u001b[0m\u001b[34;49mnotice\u001b[0m\u001b[1;39;49m]\u001b[0m\u001b[39;49m A new release of pip is available: \u001b[0m\u001b[31;49m23.1.2\u001b[0m\u001b[39;49m -> \u001b[0m\u001b[32;49m23.3.1\u001b[0m\n",
      "\u001b[1m[\u001b[0m\u001b[34;49mnotice\u001b[0m\u001b[1;39;49m]\u001b[0m\u001b[39;49m To update, run: \u001b[0m\u001b[32;49mpip install --upgrade pip\u001b[0m\n"
     ]
    }
   ],
   "source": [
    "!python3 -m pip uninstall -y pkg\n",
    "!python3 -m pip install -e ./examples/my-package -v"
   ]
  },
  {
   "cell_type": "code",
   "execution_count": 67,
   "id": "8affa78c",
   "metadata": {},
   "outputs": [
    {
     "name": "stdout",
     "output_type": "stream",
     "text": [
      "['/home/dokken/Documents/src/UiO/UiO-IN3110.github.io/lectures/python/examples/my-package/src/pkg']\n"
     ]
    }
   ],
   "source": [
    "!python3 -c \"import pkg; print(pkg.__path__)\""
   ]
  },
  {
   "cell_type": "markdown",
   "id": "5ead5f4a",
   "metadata": {},
   "source": [
    "# Project specification\n"
   ]
  },
  {
   "cell_type": "code",
   "execution_count": 68,
   "id": "d6b90116",
   "metadata": {},
   "outputs": [
    {
     "name": "stdout",
     "output_type": "stream",
     "text": [
      "[project]\n",
      "name=\"pkg\"\n",
      "authors=[{\"name\"=\"Jørgen S. Dokken\", \"email\"=\"dokken@simula.no\"},\n",
      "         {\"name\"=\"Miroslav Kuchta\", \"email\"=\"miroslav.kuchta@gmail.com\"}\n",
      "]\n",
      "readme=\"README.md\"\n",
      "license={\"file\"=\"LICENSE\"}\n",
      "version=\"0.1.0\"\n",
      "requires-python=\">=3.8\"\n",
      "dependencies=[\"numpy>=1.20.0\"]\n",
      "\n"
     ]
    }
   ],
   "source": [
    "!head -n15 ./examples/my-package/pyproject.toml | tail -n11"
   ]
  },
  {
   "cell_type": "markdown",
   "id": "13ff5249",
   "metadata": {},
   "source": [
    "## Package name\n",
    "\n",
    "As seen in the file above, we observe that we do not need to specify alot in the project description.\n",
    "We give the package a name, which should be reflected in `/src/pkg`. We use the source layout as it avoids some issues with a flat package structure, see [Python packaging guide](https://packaging.python.org/en/latest/discussions/src-layout-vs-flat-layout/) for more details.\n",
    "\n",
    "## Author list\n",
    "\n",
    "We create a list of authors with their name and email.\n"
   ]
  },
  {
   "cell_type": "markdown",
   "id": "57ac4a86",
   "metadata": {},
   "source": [
    "We will now work on the package with an aim to cover some of the existing functionality by testing and add new functionality by\n",
    "practicing test-drive-development. First some crash-course in Python unit testing.\n"
   ]
  },
  {
   "cell_type": "markdown",
   "id": "127f9e41",
   "metadata": {},
   "source": [
    "## README\n",
    "\n",
    "A package should have a description. This should be placed in a README file. The string should contain the local path (relative to the `pyproject.toml` file) to the description file.\n"
   ]
  },
  {
   "cell_type": "markdown",
   "id": "05315dbb",
   "metadata": {},
   "source": [
    "### Licensing\n",
    "\n",
    "It is very important to have a license for your published code. This is how you instruct anyone that wants to use it on the terms and conditions of copying or modifying the code. [ChooseYourLicense](https://choosealicense.com/) is a good source of information.\n",
    "A summary of recommened licenses:\n",
    "\n",
    "- **MIT**: Permissive - Others can use your code in any way, and you will not be sued if the software doesn't work (recommended in most cases)\n",
    "- **GPL**: Copyleft - derivative work must use the same license - good way to embrace open source but often problematic for commercial companies\n",
    "- **LGPL**: Similar to GPL but software can be used under different license\n",
    "- **CC-BY-4.0** - Typically used for creative work (more journals use this)\n"
   ]
  },
  {
   "cell_type": "markdown",
   "id": "96749323",
   "metadata": {},
   "source": []
  },
  {
   "cell_type": "markdown",
   "id": "4d2d27a0",
   "metadata": {},
   "source": [
    "## Version\n",
    "\n",
    "Given a version number `MAJOR.MINOR.PATCH`, increment the:\n",
    "\n",
    "1. `MAJOR` version when you make incompatible API changes\n",
    "2. `MINOR` version when you add functionality in a backward compatible manner\n",
    "3. `PATCH` version when you make backward compatible bug fixes\n",
    "\n",
    "This is called semantic versioning, see [semver.org](https://semver.org/) for details.\n"
   ]
  },
  {
   "cell_type": "markdown",
   "id": "5676816a",
   "metadata": {},
   "source": [
    "## Python versioning\n",
    "\n",
    "As Python evolves and introduces new features and deprecates versions, your software should do the same. Decide on a minimal requirement for Python (and in some cases a maximum version if a package you are using is not supporting the latest Python version).\n"
   ]
  },
  {
   "cell_type": "markdown",
   "id": "79ce5039",
   "metadata": {},
   "source": [
    "## Dependencies\n",
    "\n",
    "As our package might depend on external software, we create a list of packages such as `[\"numpy>=1.21\", \"sklearn==1.3.0\"]` etc.\n",
    "These will be installed if not found on the system at the time of installation.\n"
   ]
  },
  {
   "cell_type": "markdown",
   "id": "c1046053",
   "metadata": {},
   "source": [
    "## Optional dependencies\n",
    "\n",
    "Sometimes, we require dependencies for testing or development that are not requirements of the source code. We call these optional dependencies and list them as below\n"
   ]
  },
  {
   "cell_type": "code",
   "execution_count": 69,
   "id": "f46d6861",
   "metadata": {},
   "outputs": [
    {
     "name": "stdout",
     "output_type": "stream",
     "text": [
      "\n",
      "[project.optional-dependencies]\n",
      "test = [\n",
      "    \"pytest\",\n",
      "]\n",
      "dev = [\n",
      "    \"pdbpp\", \"ipython\"\n",
      "]\n"
     ]
    }
   ],
   "source": [
    "!tail -8 ./examples/my-package/pyproject.toml"
   ]
  },
  {
   "cell_type": "markdown",
   "id": "52bf9331",
   "metadata": {},
   "source": [
    "We install these by calling\n",
    "\n",
    "```\n",
    "python3 -m pip install .... path/to/package[dev]\n",
    "```\n",
    "\n",
    "or\n",
    "\n",
    "```\n",
    "python3 -m pip install .... path/to/package[test]\n",
    "```\n",
    "\n",
    "or\n",
    "\n",
    "```\n",
    "python3 -m pip install .... path/to/package[dev,test]\n",
    "```\n"
   ]
  },
  {
   "cell_type": "code",
   "execution_count": 70,
   "id": "a1e516d3",
   "metadata": {},
   "outputs": [
    {
     "name": "stdout",
     "output_type": "stream",
     "text": [
      "Obtaining file:///home/dokken/Documents/src/UiO/UiO-IN3110.github.io/lectures/python/examples/my-package\n",
      "  Installing build dependencies ... \u001b[?25ldone\n",
      "\u001b[?25h  Checking if build backend supports build_editable ... \u001b[?25ldone\n",
      "\u001b[?25h  Getting requirements to build editable ... \u001b[?25ldone\n",
      "\u001b[?25h  Preparing editable metadata (pyproject.toml) ... \u001b[?25ldone\n",
      "\u001b[?25hRequirement already satisfied: numpy>=1.20.0 in /home/dokken/.local/lib/python3.10/site-packages (from pkg==0.1.0) (1.26.1)\n",
      "Requirement already satisfied: pytest in /home/dokken/.local/lib/python3.10/site-packages (from pkg==0.1.0) (7.3.1)\n",
      "Collecting pdbpp (from pkg==0.1.0)\n",
      "  Using cached pdbpp-0.10.3-py2.py3-none-any.whl (23 kB)\n",
      "Requirement already satisfied: ipython in /home/dokken/.local/lib/python3.10/site-packages (from pkg==0.1.0) (8.6.0)\n",
      "Requirement already satisfied: backcall in /home/dokken/.local/lib/python3.10/site-packages (from ipython->pkg==0.1.0) (0.2.0)\n",
      "Requirement already satisfied: decorator in /home/dokken/.local/lib/python3.10/site-packages (from ipython->pkg==0.1.0) (5.1.1)\n",
      "Requirement already satisfied: jedi>=0.16 in /home/dokken/.local/lib/python3.10/site-packages (from ipython->pkg==0.1.0) (0.18.2)\n",
      "Requirement already satisfied: matplotlib-inline in /home/dokken/.local/lib/python3.10/site-packages (from ipython->pkg==0.1.0) (0.1.6)\n",
      "Requirement already satisfied: pickleshare in /home/dokken/.local/lib/python3.10/site-packages (from ipython->pkg==0.1.0) (0.7.5)\n",
      "Requirement already satisfied: prompt-toolkit<3.1.0,>3.0.1 in /home/dokken/.local/lib/python3.10/site-packages (from ipython->pkg==0.1.0) (3.0.39)\n",
      "Requirement already satisfied: pygments>=2.4.0 in /home/dokken/.local/lib/python3.10/site-packages (from ipython->pkg==0.1.0) (2.15.1)\n",
      "Requirement already satisfied: stack-data in /home/dokken/.local/lib/python3.10/site-packages (from ipython->pkg==0.1.0) (0.6.1)\n",
      "Requirement already satisfied: traitlets>=5 in /home/dokken/.local/lib/python3.10/site-packages (from ipython->pkg==0.1.0) (5.8.0)\n",
      "Requirement already satisfied: pexpect>4.3 in /home/dokken/src/mambaforge/envs/UIO-IN3110/lib/python3.10/site-packages (from ipython->pkg==0.1.0) (4.8.0)\n",
      "Collecting fancycompleter>=0.8 (from pdbpp->pkg==0.1.0)\n",
      "  Using cached fancycompleter-0.9.1-py3-none-any.whl (9.7 kB)\n",
      "Collecting wmctrl (from pdbpp->pkg==0.1.0)\n",
      "  Downloading wmctrl-0.5-py2.py3-none-any.whl (4.3 kB)\n",
      "Requirement already satisfied: iniconfig in /home/dokken/.local/lib/python3.10/site-packages (from pytest->pkg==0.1.0) (2.0.0)\n",
      "Requirement already satisfied: packaging in /home/dokken/.local/lib/python3.10/site-packages (from pytest->pkg==0.1.0) (23.1)\n",
      "Requirement already satisfied: pluggy<2.0,>=0.12 in /home/dokken/.local/lib/python3.10/site-packages (from pytest->pkg==0.1.0) (1.0.0)\n",
      "Requirement already satisfied: exceptiongroup>=1.0.0rc8 in /home/dokken/.local/lib/python3.10/site-packages (from pytest->pkg==0.1.0) (1.0.4)\n",
      "Requirement already satisfied: tomli>=1.0.0 in /home/dokken/.local/lib/python3.10/site-packages (from pytest->pkg==0.1.0) (2.0.1)\n",
      "Collecting pyrepl>=0.8.2 (from fancycompleter>=0.8->pdbpp->pkg==0.1.0)\n",
      "  Using cached pyrepl-0.9.0-py3-none-any.whl\n",
      "Requirement already satisfied: parso<0.9.0,>=0.8.0 in /home/dokken/.local/lib/python3.10/site-packages (from jedi>=0.16->ipython->pkg==0.1.0) (0.8.3)\n",
      "Requirement already satisfied: ptyprocess>=0.5 in /home/dokken/src/mambaforge/envs/UIO-IN3110/lib/python3.10/site-packages (from pexpect>4.3->ipython->pkg==0.1.0) (0.7.0)\n",
      "Requirement already satisfied: wcwidth in /home/dokken/.local/lib/python3.10/site-packages (from prompt-toolkit<3.1.0,>3.0.1->ipython->pkg==0.1.0) (0.2.5)\n",
      "Requirement already satisfied: executing>=1.2.0 in /home/dokken/.local/lib/python3.10/site-packages (from stack-data->ipython->pkg==0.1.0) (1.2.0)\n",
      "Requirement already satisfied: asttokens>=2.1.0 in /home/dokken/.local/lib/python3.10/site-packages (from stack-data->ipython->pkg==0.1.0) (2.1.0)\n",
      "Requirement already satisfied: pure-eval in /home/dokken/.local/lib/python3.10/site-packages (from stack-data->ipython->pkg==0.1.0) (0.2.2)\n",
      "Requirement already satisfied: attrs in /home/dokken/src/mambaforge/envs/UIO-IN3110/lib/python3.10/site-packages (from wmctrl->pdbpp->pkg==0.1.0) (23.1.0)\n",
      "Requirement already satisfied: six in /home/dokken/src/mambaforge/envs/UIO-IN3110/lib/python3.10/site-packages (from asttokens>=2.1.0->stack-data->ipython->pkg==0.1.0) (1.16.0)\n",
      "Building wheels for collected packages: pkg\n",
      "  Building editable for pkg (pyproject.toml) ... \u001b[?25ldone\n",
      "\u001b[?25h  Created wheel for pkg: filename=pkg-0.1.0-0.editable-py3-none-any.whl size=2854 sha256=efbde18e0330484f94cd6f9cad380eb1166038c8641ccb2376635597a4fdb116\n",
      "  Stored in directory: /tmp/pip-ephem-wheel-cache-tu8kamji/wheels/e7/be/ae/c7a1fe811e9515c9b17aa8a901178b4faa716117ff2d3aab87\n",
      "Successfully built pkg\n",
      "Installing collected packages: pyrepl, wmctrl, pkg, fancycompleter, pdbpp\n",
      "  Attempting uninstall: pkg\n",
      "    Found existing installation: pkg 0.1.0\n",
      "    Uninstalling pkg-0.1.0:\n",
      "      Successfully uninstalled pkg-0.1.0\n",
      "Successfully installed fancycompleter-0.9.1 pdbpp-0.10.3 pkg-0.1.0 pyrepl-0.9.0 wmctrl-0.5\n",
      "\n",
      "\u001b[1m[\u001b[0m\u001b[34;49mnotice\u001b[0m\u001b[1;39;49m]\u001b[0m\u001b[39;49m A new release of pip is available: \u001b[0m\u001b[31;49m23.1.2\u001b[0m\u001b[39;49m -> \u001b[0m\u001b[32;49m23.3.1\u001b[0m\n",
      "\u001b[1m[\u001b[0m\u001b[34;49mnotice\u001b[0m\u001b[1;39;49m]\u001b[0m\u001b[39;49m To update, run: \u001b[0m\u001b[32;49mpip install --upgrade pip\u001b[0m\n"
     ]
    }
   ],
   "source": [
    "!python3 -m pip install -e ./examples/my-package[dev,test]"
   ]
  }
 ],
 "metadata": {
  "kernelspec": {
   "display_name": "Python 3 (ipykernel)",
   "language": "python",
   "name": "python3"
  },
  "language_info": {
   "codemirror_mode": {
    "name": "ipython",
    "version": 3
   },
   "file_extension": ".py",
   "mimetype": "text/x-python",
   "name": "python",
   "nbconvert_exporter": "python",
   "pygments_lexer": "ipython3",
   "version": "3.11.7"
  },
  "widgets": {
   "application/vnd.jupyter.widget-state+json": {
    "state": {},
    "version_major": 2,
    "version_minor": 0
   }
  }
 },
 "nbformat": 4,
 "nbformat_minor": 5
}
